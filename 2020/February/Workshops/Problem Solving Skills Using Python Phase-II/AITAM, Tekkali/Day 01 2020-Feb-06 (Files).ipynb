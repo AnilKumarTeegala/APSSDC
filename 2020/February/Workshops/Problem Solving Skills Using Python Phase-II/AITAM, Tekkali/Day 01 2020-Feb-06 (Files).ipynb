{
 "cells": [
  {
   "cell_type": "markdown",
   "metadata": {},
   "source": [
    "# Advanced Python Programming \n",
    "\n",
    "## Day 01 2020-Feb-06"
   ]
  },
  {
   "cell_type": "markdown",
   "metadata": {},
   "source": [
    "### Day Objectives\n",
    "\n",
    "\n",
    "### Files\n",
    "Collection of data stored in the memory\n",
    "\n",
    "### Types of data\n",
    "\n",
    "- Structed data\n",
    "- Semi-structed data\n",
    "- Un-structed data\n",
    "\n",
    "## Un-structed data\n",
    "\n",
    "### Text files\n",
    "\n",
    "## Steps involved while working on files\n",
    "\n",
    "1. Open a file\n",
    "2. Do required operations\n",
    "3. Close the opened file\n",
    "\n",
    "## Modes of operation in Files\n",
    "\n",
    "- **r** Read\n",
    "- **w** write\n",
    "- **a** append"
   ]
  },
  {
   "cell_type": "markdown",
   "metadata": {},
   "source": [
    "# syntax\n",
    "\n",
    "## 1. Opening the file\n",
    "\n",
    "$ open(filepath,mode) $\n",
    "\n",
    "\n",
    "## 3. Closing the opened file\n",
    "\n",
    "$ opened\\_file.close() $"
   ]
  },
  {
   "cell_type": "code",
   "execution_count": 1,
   "metadata": {},
   "outputs": [
    {
     "data": {
      "text/plain": [
       "<_io.TextIOWrapper name='file1.txt' mode='r' encoding='cp1252'>"
      ]
     },
     "execution_count": 1,
     "metadata": {},
     "output_type": "execute_result"
    }
   ],
   "source": [
    "f = open('file1.txt','r')\n",
    "\n",
    "\n",
    "f.close()"
   ]
  },
  {
   "cell_type": "markdown",
   "metadata": {},
   "source": [
    "### Methods for reading the data from the file\n",
    "\n",
    "$read()$\n",
    "\n",
    "$readline() $\n",
    "\n",
    "$readlines()$"
   ]
  },
  {
   "cell_type": "code",
   "execution_count": 4,
   "metadata": {},
   "outputs": [
    {
     "name": "stdout",
     "output_type": "stream",
     "text": [
      "### Day Objectives\n",
      "\n",
      "\n",
      "### Files\n",
      "Collection of data stored in the memory\n",
      "\n",
      "### Types of data\n",
      "\n",
      "- Structed data\n",
      "- Semi-structed data\n",
      "- Un-structed data\n",
      "\n",
      "## Un-structed data\n",
      "\n",
      "### Text files\n",
      "\n",
      "## Steps involved while working on files\n",
      "\n",
      "1. Open a file\n",
      "2. Do required operations\n",
      "3. Close the opened file\n",
      "\n",
      "## Modes of operation in Files\n",
      "\n",
      "- **r** Read\n",
      "- **w** write\n",
      "- **a** append\n",
      "<class 'str'>\n"
     ]
    }
   ],
   "source": [
    "f = open('file1.txt','r')\n",
    "\n",
    "data = f.read()\n",
    "print(data)\n",
    "print(type(data))\n",
    "\n",
    "f.close()"
   ]
  },
  {
   "cell_type": "code",
   "execution_count": 6,
   "metadata": {},
   "outputs": [
    {
     "name": "stdout",
     "output_type": "stream",
     "text": [
      "### Day Objectives\n",
      "\n",
      "\n",
      "\n"
     ]
    }
   ],
   "source": [
    "f = open('file1.txt','r')\n",
    "\n",
    "line1 = f.readline()\n",
    "line2 = f.readline()\n",
    "print(line1)\n",
    "print(line2)\n",
    "#print(type(data))\n",
    "\n",
    "f.close()"
   ]
  },
  {
   "cell_type": "code",
   "execution_count": 7,
   "metadata": {},
   "outputs": [
    {
     "name": "stdout",
     "output_type": "stream",
     "text": [
      "['### Day Objectives\\n', '\\n', '\\n', '### Files\\n', 'Collection of data stored in the memory\\n', '\\n', '### Types of data\\n', '\\n', '- Structed data\\n', '- Semi-structed data\\n', '- Un-structed data\\n', '\\n', '## Un-structed data\\n', '\\n', '### Text files\\n', '\\n', '## Steps involved while working on files\\n', '\\n', '1. Open a file\\n', '2. Do required operations\\n', '3. Close the opened file\\n', '\\n', '## Modes of operation in Files\\n', '\\n', '- **r** Read\\n', '- **w** write\\n', '- **a** append']\n",
      "<class 'list'>\n"
     ]
    }
   ],
   "source": [
    "f = open('file1.txt','r')\n",
    "\n",
    "data = f.readlines()\n",
    "print(data)\n",
    "print(type(data))\n",
    "\n",
    "f.close()"
   ]
  },
  {
   "cell_type": "markdown",
   "metadata": {},
   "source": [
    "## Reading the first 10 lines in the file"
   ]
  },
  {
   "cell_type": "code",
   "execution_count": 8,
   "metadata": {},
   "outputs": [
    {
     "name": "stdout",
     "output_type": "stream",
     "text": [
      "0 ### Day Objectives\n",
      "\n",
      "1 \n",
      "\n",
      "2 \n",
      "\n",
      "3 ### Files\n",
      "\n",
      "4 Collection of data stored in the memory\n",
      "\n",
      "5 \n",
      "\n",
      "6 ### Types of data\n",
      "\n",
      "7 \n",
      "\n",
      "8 - Structed data\n",
      "\n",
      "9 - Semi-structed data\n",
      "\n"
     ]
    }
   ],
   "source": [
    "f = open('file1.txt','r')\n",
    "\n",
    "for i in range(0,10,1):\n",
    "    line = f.readline()\n",
    "    print(i,line)\n",
    "\n",
    "f.close()"
   ]
  },
  {
   "cell_type": "markdown",
   "metadata": {},
   "source": [
    "## Reading the data located in the even line numbers"
   ]
  },
  {
   "cell_type": "code",
   "execution_count": 1,
   "metadata": {},
   "outputs": [
    {
     "name": "stdout",
     "output_type": "stream",
     "text": [
      "0 ### Day Objectives\n",
      "\n",
      "2 \n",
      "\n",
      "4 Collection of data stored in the memory\n",
      "\n",
      "6 ### Types of data\n",
      "\n",
      "8 - Structed data\n",
      "\n"
     ]
    }
   ],
   "source": [
    "f = open('file1.txt','r')\n",
    "\n",
    "for i in range(0,10):\n",
    "    line = f.readline()\n",
    "    if i % 2 == 0:\n",
    "        print(i,line)\n",
    "f.close()"
   ]
  },
  {
   "cell_type": "markdown",
   "metadata": {},
   "source": [
    "## Methods for Writing data into a file\n",
    "$ write() $\n",
    "\n",
    "$ writelines()$"
   ]
  },
  {
   "cell_type": "markdown",
   "metadata": {},
   "source": [
    "## Creating a empty file"
   ]
  },
  {
   "cell_type": "code",
   "execution_count": 10,
   "metadata": {},
   "outputs": [],
   "source": [
    "f = open('WriteFile.txt','w')\n",
    "\n",
    "f.close()"
   ]
  },
  {
   "cell_type": "markdown",
   "metadata": {},
   "source": [
    "## Writing the data to the file"
   ]
  },
  {
   "cell_type": "code",
   "execution_count": 12,
   "metadata": {},
   "outputs": [],
   "source": [
    "f = open('WriteFile.txt','w')\n",
    "\n",
    "data = \"Hii File I'm from Jupyter Notebook\"\n",
    "\n",
    "f.write(data)\n",
    "\n",
    "f.close()"
   ]
  },
  {
   "cell_type": "markdown",
   "metadata": {},
   "source": [
    "## appending the data to the existing file"
   ]
  },
  {
   "cell_type": "code",
   "execution_count": 14,
   "metadata": {},
   "outputs": [],
   "source": [
    "f = open('WriteFile.txt','a')\n",
    "\n",
    "data = \"\\nHello File I'm from Jupyter Notebook\"\n",
    "\n",
    "f.write(data)\n",
    "\n",
    "f.close()"
   ]
  },
  {
   "cell_type": "markdown",
   "metadata": {},
   "source": [
    "## Writing the data from one file to another file"
   ]
  },
  {
   "cell_type": "code",
   "execution_count": 17,
   "metadata": {},
   "outputs": [],
   "source": [
    "f1 = open('file1.txt','r')\n",
    "f2 = open('file2.txt','w')\n",
    "\n",
    "for i in range(0,10):\n",
    "    line = f1.readline()\n",
    "    f2.writelines(line)\n",
    "\n",
    "f1.close()\n",
    "f2.close()"
   ]
  },
  {
   "cell_type": "markdown",
   "metadata": {},
   "source": [
    "## Writing the data from one file to another file with line numbers"
   ]
  },
  {
   "cell_type": "code",
   "execution_count": null,
   "metadata": {},
   "outputs": [],
   "source": [
    "f1 = open('file1.txt','r')\n",
    "f2 = open('file2.txt','a')\n",
    "\n",
    "for i in range(0,10):\n",
    "    line = f1.readline()\n",
    "    f2.writelines(str(i)+' '+line+)\n",
    "\n",
    "f1.close()\n",
    "f2.close()"
   ]
  },
  {
   "cell_type": "markdown",
   "metadata": {},
   "source": [
    "## Day-1 Outcomes\n",
    "\n",
    "- What is a file\n",
    "- Types of Data\n",
    "- work on unstructed data type of files"
   ]
  },
  {
   "cell_type": "code",
   "execution_count": null,
   "metadata": {},
   "outputs": [],
   "source": []
  }
 ],
 "metadata": {
  "kernelspec": {
   "display_name": "Python 3",
   "language": "python",
   "name": "python3"
  },
  "language_info": {
   "codemirror_mode": {
    "name": "ipython",
    "version": 3
   },
   "file_extension": ".py",
   "mimetype": "text/x-python",
   "name": "python",
   "nbconvert_exporter": "python",
   "pygments_lexer": "ipython3",
   "version": "3.7.3"
  }
 },
 "nbformat": 4,
 "nbformat_minor": 2
}
